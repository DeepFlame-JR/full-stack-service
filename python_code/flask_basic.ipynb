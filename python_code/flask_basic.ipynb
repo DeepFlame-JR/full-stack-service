{
 "cells": [
  {
   "cell_type": "code",
   "execution_count": 2,
   "metadata": {},
   "outputs": [
    {
     "name": "stdout",
     "output_type": "stream",
     "text": [
      "<Flask '__main__'>\n",
      "__main__\n"
     ]
    }
   ],
   "source": [
    "from flask import Flask\n",
    "app = Flask(__name__)\n",
    "print(app)\n",
    "print(__name__)"
   ]
  },
  {
   "attachments": {},
   "cell_type": "markdown",
   "metadata": {},
   "source": [
    "##### 라우팅 이란?\n",
    "- 적잘한 목적지를 찾아주는 기능\n",
    "- URL을 해당 URL에 맞는 기능과 연결"
   ]
  },
  {
   "cell_type": "code",
   "execution_count": null,
   "metadata": {},
   "outputs": [],
   "source": [
    "@app.route(\"/hello\")\n",
    "def hello():\n",
    "    return \"<h1>Hello World!</h1>\""
   ]
  },
  {
   "cell_type": "code",
   "execution_count": null,
   "metadata": {},
   "outputs": [],
   "source": [
    "# 웹서버 구동\n",
    "app.run(host=None, port=None, debug=True)"
   ]
  },
  {
   "attachments": {},
   "cell_type": "markdown",
   "metadata": {},
   "source": [
    "Sample"
   ]
  },
  {
   "cell_type": "code",
   "execution_count": 5,
   "metadata": {},
   "outputs": [
    {
     "name": "stdout",
     "output_type": "stream",
     "text": [
      " * Serving Flask app '__main__'\n",
      " * Debug mode: off\n"
     ]
    },
    {
     "name": "stderr",
     "output_type": "stream",
     "text": [
      "WARNING: This is a development server. Do not use it in a production deployment. Use a production WSGI server instead.\n",
      " * Running on all addresses (0.0.0.0)\n",
      " * Running on http://127.0.0.1:8089\n",
      " * Running on http://192.168.45.103:8089\n",
      "Press CTRL+C to quit\n",
      "127.0.0.1 - - [02/May/2023 19:29:17] \"GET /hello HTTP/1.1\" 200 -\n",
      "127.0.0.1 - - [02/May/2023 19:29:18] \"GET /hello HTTP/1.1\" 200 -\n"
     ]
    }
   ],
   "source": [
    "from flask import Flask\n",
    "\n",
    "app = Flask(__name__)\n",
    "@app.route(\"/hello\")\n",
    "def hello():\n",
    "    return \"<h1>Hello World!!!</h1>\"\n",
    "\n",
    "host_addr = \"0.0.0.0\"\n",
    "port_num = \"8089\"\n",
    "if __name__ == '__main__':\n",
    "    app.run(host = host_addr, port = port_num)"
   ]
  },
  {
   "cell_type": "markdown",
   "metadata": {},
   "source": [
    "## Decorator"
   ]
  },
  {
   "attachments": {},
   "cell_type": "markdown",
   "metadata": {},
   "source": [
    "### 1. 중첩함수 (Nested function)\n",
    "- 함수 안에서 새로운 함수를 선언"
   ]
  },
  {
   "cell_type": "code",
   "execution_count": 7,
   "metadata": {},
   "outputs": [
    {
     "name": "stdout",
     "output_type": "stream",
     "text": [
      "Outer\n",
      "Inner\n"
     ]
    }
   ],
   "source": [
    "def outer_func() : \n",
    "    print(\"Outer\")\n",
    "    \n",
    "    def inner_func():\n",
    "        return \"Inner\"\n",
    "    \n",
    "    print(inner_func())\n",
    "\n",
    "outer_func()"
   ]
  },
  {
   "attachments": {},
   "cell_type": "markdown",
   "metadata": {},
   "source": [
    "외부에서 실행될 수 없음"
   ]
  },
  {
   "cell_type": "code",
   "execution_count": 1,
   "metadata": {},
   "outputs": [
    {
     "ename": "NameError",
     "evalue": "name 'inner_func' is not defined",
     "output_type": "error",
     "traceback": [
      "\u001b[1;31m---------------------------------------------------------------------------\u001b[0m",
      "\u001b[1;31mNameError\u001b[0m                                 Traceback (most recent call last)",
      "Cell \u001b[1;32mIn[1], line 1\u001b[0m\n\u001b[1;32m----> 1\u001b[0m inner_func()\n",
      "\u001b[1;31mNameError\u001b[0m: name 'inner_func' is not defined"
     ]
    }
   ],
   "source": [
    "inner_func()"
   ]
  },
  {
   "attachments": {},
   "cell_type": "markdown",
   "metadata": {},
   "source": [
    "중첩 함수를 밖에서 호출하는 방법"
   ]
  },
  {
   "cell_type": "code",
   "execution_count": 2,
   "metadata": {},
   "outputs": [
    {
     "name": "stdout",
     "output_type": "stream",
     "text": [
      "10\n",
      "complex\n"
     ]
    }
   ],
   "source": [
    "def outer_func(num):\n",
    "    def inner_func():\n",
    "        print(num)\n",
    "        return 'complex'\n",
    "    return inner_func\n",
    "\n",
    "fn = outer_func(10)  # first-class function\n",
    "print(fn())  # Closure 호출"
   ]
  },
  {
   "attachments": {},
   "cell_type": "markdown",
   "metadata": {},
   "source": [
    "### 2. First-class function\n",
    "- First-class 함수란\n",
    "    - 함수를 변수에 저장 가능\n",
    "    - 함수의 인자에 다른 함수를 인수로 전달 가능\n",
    "    - 함수 return 가능\n",
    "- 파이썬에서는 모든 것이 객체 > 파이썬 함수들은 First-class 함수로 사용 가능\n",
    "    - python, Go, js, Kotlin 등이 지원"
   ]
  },
  {
   "cell_type": "code",
   "execution_count": 5,
   "metadata": {},
   "outputs": [
    {
     "name": "stdout",
     "output_type": "stream",
     "text": [
      "4\n",
      "<function square at 0x000002859BAB8820>\n",
      "4\n"
     ]
    }
   ],
   "source": [
    "def square(n):\n",
    "    return n*n\n",
    "\n",
    "print(square(2))\n",
    "\n",
    "func1 = square\n",
    "print(func1)\n",
    "print(func1(2))"
   ]
  },
  {
   "cell_type": "code",
   "execution_count": 6,
   "metadata": {},
   "outputs": [
    {
     "name": "stdout",
     "output_type": "stream",
     "text": [
      "[1, 4, 9, 16, 25]\n",
      "[2, 4, 6, 8, 10]\n",
      "[1, 16, 81, 256, 625]\n"
     ]
    }
   ],
   "source": [
    "def square(n):\n",
    "    return n*n\n",
    "\n",
    "def plus(n):\n",
    "    return n+n\n",
    "\n",
    "def quad(n):\n",
    "    return n*n*n*n\n",
    "\n",
    "def calc_funcs(func, numbers):\n",
    "    result = []\n",
    "    for n in numbers:\n",
    "        result.append(func(n))\n",
    "    print(result)\n",
    "    \n",
    "numbers = [1,2,3,4,5]\n",
    "calc_funcs(square, numbers)\n",
    "calc_funcs(plus, numbers)\n",
    "calc_funcs(quad, numbers)\n",
    "    "
   ]
  },
  {
   "cell_type": "code",
   "execution_count": 13,
   "metadata": {},
   "outputs": [
    {
     "name": "stdout",
     "output_type": "stream",
     "text": [
      "<function logger.<locals>.msg_creator at 0x000002859A7ABF40>\n",
      "[HIGH LEVEL]:  Aiden Log-in\n"
     ]
    }
   ],
   "source": [
    "def logger(msg):\n",
    "    message = msg\n",
    "    def msg_creator():\n",
    "        print('[HIGH LEVEL]: ', message)\n",
    "    return msg_creator\n",
    "\n",
    "log1 = logger('Aiden Log-in')\n",
    "print(log1)\n",
    "log1()"
   ]
  },
  {
   "attachments": {},
   "cell_type": "markdown",
   "metadata": {},
   "source": [
    "활용"
   ]
  },
  {
   "cell_type": "code",
   "execution_count": 14,
   "metadata": {},
   "outputs": [
    {
     "name": "stdout",
     "output_type": "stream",
     "text": [
      "<function html_creator.<locals>.text_wrapper at 0x000002859A5FAB90>\n",
      "<h1>Title</h1>\n",
      "<p>contents</p>\n"
     ]
    }
   ],
   "source": [
    "def html_creator(tag):\n",
    "    def text_wrapper(msg):\n",
    "        print(f\"<{tag}>{msg}</{tag}>\")\n",
    "    return text_wrapper\n",
    "\n",
    "h1_html_creator = html_creator('h1')\n",
    "print(h1_html_creator)\n",
    "h1_html_creator('Title')\n",
    "\n",
    "p_html_creator = html_creator('p')\n",
    "p_html_creator('contents')"
   ]
  },
  {
   "attachments": {},
   "cell_type": "markdown",
   "metadata": {},
   "source": [
    "### 3. Closure function\n",
    "- 함수와 가지고 있는 데이터를 함께 복사, 저장하여 별도 함수로 활용\n",
    "- 외부 함수가 소멸하더라도 외부 함수 안에 있는 로컬 변수 값과 중첩 함수를 사용할 수 있는 기법\n",
    "- 일반적으로 제공할 기능(method)가 적은 경우, closure를 사용"
   ]
  },
  {
   "cell_type": "code",
   "execution_count": 21,
   "metadata": {},
   "outputs": [
    {
     "name": "stdout",
     "output_type": "stream",
     "text": [
      "2\n",
      "4\n",
      "8\n",
      "16\n",
      "32\n"
     ]
    }
   ],
   "source": [
    "def calc_power(num):\n",
    "    def calc(n):\n",
    "        return n**num\n",
    "    return calc\n",
    "\n",
    "list_data = []\n",
    "for num in range(1, 6):\n",
    "    list_data.append(calc_power(num))\n",
    "    \n",
    "for func in list_data:\n",
    "    print(func(2))"
   ]
  }
 ],
 "metadata": {
  "kernelspec": {
   "display_name": ".venv",
   "language": "python",
   "name": "python3"
  },
  "language_info": {
   "codemirror_mode": {
    "name": "ipython",
    "version": 3
   },
   "file_extension": ".py",
   "mimetype": "text/x-python",
   "name": "python",
   "nbconvert_exporter": "python",
   "pygments_lexer": "ipython3",
   "version": "3.10.5"
  },
  "orig_nbformat": 4
 },
 "nbformat": 4,
 "nbformat_minor": 2
}
