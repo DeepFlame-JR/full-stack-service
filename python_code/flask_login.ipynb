{
 "cells": [
  {
   "attachments": {},
   "cell_type": "markdown",
   "metadata": {},
   "source": [
    "*flask_login 동작 방식*\n",
    "1. 사용자 로그인\n",
    "1. 사용자 로그인 정보를 User class에서 가져와 LoginManager() 에 추가하여 세션 생성\n",
    "1. current_user 객체에 해당 객체가 생성\n",
    "1. 로그인 후 웹페이지로 접근 시, 전달받은 세션 정보를 기반으로 접근\n",
    "    - @login_required 데코레이터는 세션이 없으면 접근 불가능\n",
    "1. 사용자 로그아웃시 LoginManager()에서 해당 id 제거"
   ]
  },
  {
   "cell_type": "code",
   "execution_count": null,
   "metadata": {},
   "outputs": [],
   "source": [
    "from flask import Flask, render_template, redirect, url_for\n",
    "from flask_login import LoginManager, login_user, logout_user, login_required, UserMixin, current_user\n",
    "from requests import request\n",
    "\n",
    "app = Flask(__name__)\n",
    "app.secret_key = 'your_secret_key'\n",
    "\n",
    "login_manager = LoginManager()\n",
    "login_manager.init_app(app)\n",
    "\n",
    "users = {\n",
    "    'user1': {'password': 'password1'},\n",
    "    'user2': {'password': 'password2'}\n",
    "}\n",
    "\n",
    "class User(UserMixin):\n",
    "    pass\n",
    "\n",
    "@login_manager.user_loader\n",
    "def user_loader(username):\n",
    "    if username not in users:\n",
    "        return\n",
    "\n",
    "    user = User()\n",
    "    user.id = username\n",
    "    return user\n",
    "\n",
    "@app.route('/')\n",
    "def index():\n",
    "    if current_user.is_authenticated:\n",
    "        return f'Logged in as {current_user.id}. <a href=\"/logout\">Logout</a>'\n",
    "    return 'You are not logged in. <a href=\"/login\">Login</a>'\n",
    "\n",
    "@app.route('/login', methods=['GET', 'POST'])\n",
    "def login():\n",
    "    if current_user.is_authenticated:\n",
    "        return redirect(url_for('index'))\n",
    "\n",
    "    if request.method == 'POST':\n",
    "        username = request.form['username']\n",
    "        password = request.form['password']\n",
    "\n",
    "        if username in users and password == users[username]['password']:\n",
    "            user = User()\n",
    "            user.id = username\n",
    "            login_user(user)\n",
    "            return redirect(url_for('index'))\n",
    "\n",
    "        return render_template('login.html', error='Invalid username or password')\n",
    "\n",
    "    return render_template('login.html')\n",
    "\n",
    "@app.route('/logout')\n",
    "@login_required\n",
    "def logout():\n",
    "    logout_user()\n",
    "    return redirect(url_for('index'))\n"
   ]
  }
 ],
 "metadata": {
  "kernelspec": {
   "display_name": ".venv",
   "language": "python",
   "name": "python3"
  },
  "language_info": {
   "name": "python",
   "version": "3.10.5"
  },
  "orig_nbformat": 4
 },
 "nbformat": 4,
 "nbformat_minor": 2
}
