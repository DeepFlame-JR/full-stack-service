{
 "cells": [
  {
   "cell_type": "markdown",
   "metadata": {},
   "source": [
    "## Decorator"
   ]
  },
  {
   "cell_type": "markdown",
   "metadata": {},
   "source": [
    "### 1. 중첩함수 (Nested function)\n",
    "- 함수 안에서 새로운 함수를 선언"
   ]
  },
  {
   "cell_type": "code",
   "execution_count": null,
   "metadata": {},
   "outputs": [
    {
     "name": "stdout",
     "output_type": "stream",
     "text": [
      "Outer\n",
      "Inner\n"
     ]
    }
   ],
   "source": [
    "def outer_func() : \n",
    "    print(\"Outer\")\n",
    "    \n",
    "    def inner_func():\n",
    "        return \"Inner\"\n",
    "    \n",
    "    print(inner_func())\n",
    "\n",
    "outer_func()"
   ]
  },
  {
   "cell_type": "markdown",
   "metadata": {},
   "source": [
    "외부에서 실행될 수 없음"
   ]
  },
  {
   "cell_type": "code",
   "execution_count": null,
   "metadata": {},
   "outputs": [
    {
     "ename": "NameError",
     "evalue": "name 'inner_func' is not defined",
     "output_type": "error",
     "traceback": [
      "\u001b[1;31m---------------------------------------------------------------------------\u001b[0m\n",
      "\u001b[1;31mNameError\u001b[0m                                 Traceback (most recent call last)\n",
      "Cell \u001b[1;32mIn[1], line 1\u001b[0m\n",
      "\u001b[1;32m----> 1\u001b[0m inner_func()\n",
      "\n",
      "\u001b[1;31mNameError\u001b[0m: name 'inner_func' is not defined"
     ]
    }
   ],
   "source": [
    "inner_func()"
   ]
  },
  {
   "cell_type": "markdown",
   "metadata": {},
   "source": [
    "중첩 함수를 밖에서 호출하는 방법"
   ]
  },
  {
   "cell_type": "code",
   "execution_count": null,
   "metadata": {},
   "outputs": [
    {
     "name": "stdout",
     "output_type": "stream",
     "text": [
      "10\n",
      "complex\n"
     ]
    }
   ],
   "source": [
    "def outer_func(num):\n",
    "    def inner_func():\n",
    "        print(num)\n",
    "        return 'complex'\n",
    "    return inner_func\n",
    "\n",
    "fn = outer_func(10)  # first-class function\n",
    "print(fn())  # Closure 호출"
   ]
  },
  {
   "cell_type": "markdown",
   "metadata": {},
   "source": [
    "### 2. First-class function\n",
    "- First-class 함수란\n",
    "    - 함수를 변수에 저장 가능\n",
    "    - 함수의 인자에 다른 함수를 인수로 전달 가능\n",
    "    - 함수 return 가능\n",
    "- 파이썬에서는 모든 것이 객체 > 파이썬 함수들은 First-class 함수로 사용 가능\n",
    "    - python, Go, js, Kotlin 등이 지원"
   ]
  },
  {
   "cell_type": "code",
   "execution_count": null,
   "metadata": {},
   "outputs": [
    {
     "name": "stdout",
     "output_type": "stream",
     "text": [
      "4\n",
      "<function square at 0x000002859BAB8820>\n",
      "4\n"
     ]
    }
   ],
   "source": [
    "def square(n):\n",
    "    return n*n\n",
    "\n",
    "print(square(2))\n",
    "\n",
    "func1 = square\n",
    "print(func1)\n",
    "print(func1(2))"
   ]
  },
  {
   "cell_type": "code",
   "execution_count": null,
   "metadata": {},
   "outputs": [
    {
     "name": "stdout",
     "output_type": "stream",
     "text": [
      "[1, 4, 9, 16, 25]\n",
      "[2, 4, 6, 8, 10]\n",
      "[1, 16, 81, 256, 625]\n"
     ]
    }
   ],
   "source": [
    "def square(n):\n",
    "    return n*n\n",
    "\n",
    "def plus(n):\n",
    "    return n+n\n",
    "\n",
    "def quad(n):\n",
    "    return n*n*n*n\n",
    "\n",
    "def calc_funcs(func, numbers):\n",
    "    result = []\n",
    "    for n in numbers:\n",
    "        result.append(func(n))\n",
    "    print(result)\n",
    "    \n",
    "numbers = [1,2,3,4,5]\n",
    "calc_funcs(square, numbers)\n",
    "calc_funcs(plus, numbers)\n",
    "calc_funcs(quad, numbers)\n",
    "    "
   ]
  },
  {
   "cell_type": "code",
   "execution_count": null,
   "metadata": {},
   "outputs": [
    {
     "name": "stdout",
     "output_type": "stream",
     "text": [
      "<function logger.<locals>.msg_creator at 0x000002859A7ABF40>\n",
      "[HIGH LEVEL]:  Aiden Log-in\n"
     ]
    }
   ],
   "source": [
    "def logger(msg):\n",
    "    message = msg\n",
    "    def msg_creator():\n",
    "        print('[HIGH LEVEL]: ', message)\n",
    "    return msg_creator\n",
    "\n",
    "log1 = logger('Aiden Log-in')\n",
    "print(log1)\n",
    "log1()"
   ]
  },
  {
   "cell_type": "markdown",
   "metadata": {},
   "source": [
    "활용"
   ]
  },
  {
   "cell_type": "code",
   "execution_count": null,
   "metadata": {},
   "outputs": [
    {
     "name": "stdout",
     "output_type": "stream",
     "text": [
      "<function html_creator.<locals>.text_wrapper at 0x000002859A5FAB90>\n",
      "<h1>Title</h1>\n",
      "<p>contents</p>\n"
     ]
    }
   ],
   "source": [
    "def html_creator(tag):\n",
    "    def text_wrapper(msg):\n",
    "        print(f\"<{tag}>{msg}</{tag}>\")\n",
    "    return text_wrapper\n",
    "\n",
    "h1_html_creator = html_creator('h1')\n",
    "print(h1_html_creator)\n",
    "h1_html_creator('Title')\n",
    "\n",
    "p_html_creator = html_creator('p')\n",
    "p_html_creator('contents')"
   ]
  },
  {
   "cell_type": "markdown",
   "metadata": {},
   "source": [
    "### 3. Closure function\n",
    "- 함수와 가지고 있는 데이터를 함께 복사, 저장하여 별도 함수로 활용\n",
    "- 외부 함수가 소멸하더라도 외부 함수 안에 있는 로컬 변수 값과 중첩 함수를 사용할 수 있는 기법\n",
    "- 일반적으로 제공할 기능(method)가 적은 경우, closure를 사용"
   ]
  },
  {
   "cell_type": "code",
   "execution_count": null,
   "metadata": {},
   "outputs": [
    {
     "name": "stdout",
     "output_type": "stream",
     "text": [
      "2\n",
      "4\n",
      "8\n",
      "16\n",
      "32\n"
     ]
    }
   ],
   "source": [
    "def calc_power(num):\n",
    "    def calc(n):\n",
    "        return n**num\n",
    "    return calc\n",
    "\n",
    "list_data = []\n",
    "for num in range(1, 6):\n",
    "    list_data.append(calc_power(num))\n",
    "    \n",
    "for func in list_data:\n",
    "    print(func(2))"
   ]
  },
  {
   "cell_type": "markdown",
   "metadata": {},
   "source": [
    "### 4. 데코레이터\n",
    "- 함수 앞 뒤에 기능을 추가해서 손쉽게 함수를 활용\n",
    "- closure 함수 활용"
   ]
  },
  {
   "cell_type": "code",
   "execution_count": null,
   "metadata": {},
   "outputs": [],
   "source": [
    "from datetime import datetime\n",
    "\n",
    "def datetime_decorator(func):\n",
    "    def wrapper():\n",
    "        print(f'time: {datetime.now()}')\n",
    "        func()\n",
    "        print(datetime.now())\n",
    "    return wrapper"
   ]
  },
  {
   "cell_type": "code",
   "execution_count": null,
   "metadata": {},
   "outputs": [
    {
     "name": "stdout",
     "output_type": "stream",
     "text": [
      "time: 2023-05-03 21:06:19.250471\n",
      "Aiden login\n",
      "2023-05-03 21:06:19.250471\n"
     ]
    }
   ],
   "source": [
    "@datetime_decorator\n",
    "def logger_login_aiden():\n",
    "    print(\"Aiden login\")\n",
    "    \n",
    "logger_login_aiden()"
   ]
  },
  {
   "cell_type": "code",
   "execution_count": null,
   "metadata": {},
   "outputs": [],
   "source": [
    "def outer_func(func):\n",
    "    def inner_func(n1, n2):\n",
    "        if n2 == 0:\n",
    "            print(\"n2 can't be zero\")\n",
    "            return\n",
    "        func(n1, n2)\n",
    "    return inner_func"
   ]
  },
  {
   "cell_type": "code",
   "execution_count": null,
   "metadata": {},
   "outputs": [
    {
     "name": "stdout",
     "output_type": "stream",
     "text": [
      "1.0\n",
      "n2 can't be zero\n"
     ]
    }
   ],
   "source": [
    "@outer_func\n",
    "def divide(n1, n2):\n",
    "    print(n1/n2)\n",
    "\n",
    "divide(2,2)\n",
    "divide(2,0)"
   ]
  },
  {
   "cell_type": "markdown",
   "metadata": {},
   "source": [
    "파라미터에 관계없이 모든 함수에 적용 가능한 Decorator"
   ]
  },
  {
   "cell_type": "code",
   "execution_count": null,
   "metadata": {},
   "outputs": [],
   "source": [
    "def general_decorator(func):\n",
    "    def wrapper(*args, **kwargs):\n",
    "        print(\"function is decorated\")\n",
    "        return func(*args, **kwargs)\n",
    "    return wrapper"
   ]
  },
  {
   "cell_type": "code",
   "execution_count": null,
   "metadata": {},
   "outputs": [
    {
     "name": "stdout",
     "output_type": "stream",
     "text": [
      "function is decorated\n"
     ]
    },
    {
     "data": {
      "text/plain": [
       "30"
      ]
     },
     "metadata": {},
     "output_type": "display_data"
    }
   ],
   "source": [
    "@general_decorator\n",
    "def calc_quad(n1, n2, n3, n4):\n",
    "    return n1*n2*n3*n4\n",
    "\n",
    "calc_quad(3,5,1,2)"
   ]
  },
  {
   "cell_type": "markdown",
   "metadata": {},
   "source": [
    "다수 데코레이터 지정"
   ]
  },
  {
   "cell_type": "code",
   "execution_count": null,
   "metadata": {},
   "outputs": [],
   "source": [
    "def decorator1(func):\n",
    "    def wrapper():\n",
    "        print('decorator1')\n",
    "        func()\n",
    "    return wrapper\n",
    "\n",
    "def decorator2(func):\n",
    "    def wrapper():\n",
    "        print('decorator2')\n",
    "        func()\n",
    "    return wrapper"
   ]
  },
  {
   "cell_type": "code",
   "execution_count": null,
   "metadata": {},
   "outputs": [
    {
     "name": "stdout",
     "output_type": "stream",
     "text": [
      "decorator1\n",
      "decorator2\n",
      "hello\n"
     ]
    }
   ],
   "source": [
    "@decorator1  # @decorator2 부터 func로 인식\n",
    "@decorator2  # hello를 func로 인식\n",
    "def hello():\n",
    "    print('hello')\n",
    "    \n",
    "hello()"
   ]
  },
  {
   "cell_type": "markdown",
   "metadata": {},
   "source": [
    "#### Method Decorator\n",
    "- 클래스의 method에도 데코레이터 적용 가능\n",
    "- self를 첫 인자로 써주어야함"
   ]
  },
  {
   "cell_type": "code",
   "execution_count": null,
   "metadata": {},
   "outputs": [],
   "source": [
    "def h1_tag(func):\n",
    "    def wrapper(self, *args, **kwargs):\n",
    "        return f\"<h1>{func(self, *args, **kwargs)}</h1>\"\n",
    "    return wrapper"
   ]
  },
  {
   "cell_type": "code",
   "execution_count": null,
   "metadata": {},
   "outputs": [
    {
     "name": "stdout",
     "output_type": "stream",
     "text": [
      "<h1>Lee Aiden</h1>\n"
     ]
    }
   ],
   "source": [
    "class Person:\n",
    "    def __init__(self, first_name, last_name) -> None:\n",
    "        self.first_name = first_name\n",
    "        self.last_name = last_name\n",
    "    \n",
    "    @h1_tag\n",
    "    def get_name(self) -> str:\n",
    "        return self.first_name + ' ' + self.last_name\n",
    "    \n",
    "person = Person('Lee', 'Aiden')\n",
    "print(person.get_name())"
   ]
  }
 ],
 "metadata": {
  "language_info": {
   "name": "python"
  },
  "orig_nbformat": 4
 },
 "nbformat": 4,
 "nbformat_minor": 2
}
