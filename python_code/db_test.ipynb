{
 "cells": [
  {
   "attachments": {},
   "cell_type": "markdown",
   "metadata": {},
   "source": [
    "### MySQL"
   ]
  },
  {
   "cell_type": "code",
   "execution_count": 15,
   "metadata": {},
   "outputs": [],
   "source": [
    "import pymysql\n",
    "\n",
    "# establish a connection to the database\n",
    "connection = pymysql.connect(\n",
    "    host='localhost',\n",
    "    user='root',\n",
    "    password='1230',\n",
    "    port=3306,\n",
    "    db='blog_db',\n",
    "    charset='utf8',\n",
    ")\n",
    "\n",
    "cur = connection.cursor()"
   ]
  },
  {
   "cell_type": "code",
   "execution_count": 22,
   "metadata": {},
   "outputs": [],
   "source": [
    "sql = \"\"\"\n",
    "create table if not exists user_info(\n",
    "\tuser_id INT UNSIGNED NOT NULL AUTO_INCREMENT,\n",
    "    user_email varchar(100) not null,\n",
    "    blog_id char(4),\n",
    "    primary key(user_id)\n",
    ");\n",
    "\"\"\"\n",
    "cur.execute(sql)\n",
    "connection.commit()"
   ]
  },
  {
   "cell_type": "code",
   "execution_count": 25,
   "metadata": {},
   "outputs": [],
   "source": [
    "user_email = \"test@test.com\"\n",
    "blog_id = 'A'\n",
    "\n",
    "sql = f\"INSERT INTO user_info (user_email, blog_id) VALUES ('{user_email}', '{blog_id}')\"\n",
    "cur.execute(sql)\n",
    "connection.commit()"
   ]
  },
  {
   "cell_type": "code",
   "execution_count": 27,
   "metadata": {},
   "outputs": [
    {
     "name": "stdout",
     "output_type": "stream",
     "text": [
      "(1, 'test@test.com', 'A')\n"
     ]
    }
   ],
   "source": [
    "sql = f\"SELECT * FROM user_info\"\n",
    "cur.execute(sql)\n",
    "results = cur.fetchall()\n",
    "for result in results:\n",
    "    print(result)"
   ]
  },
  {
   "attachments": {},
   "cell_type": "markdown",
   "metadata": {},
   "source": [
    "MongoDB"
   ]
  },
  {
   "cell_type": "code",
   "execution_count": 32,
   "metadata": {},
   "outputs": [],
   "source": [
    "import pymongo\n",
    "\n",
    "client = pymongo.MongoClient(\"mongodb://localhost:27017/\")\n",
    "collection = client.blog_session_db.blog_ab"
   ]
  },
  {
   "cell_type": "code",
   "execution_count": 33,
   "metadata": {},
   "outputs": [
    {
     "name": "stdout",
     "output_type": "stream",
     "text": [
      "Inserted document with ID: 645e25fe22020669c17a2e24\n"
     ]
    }
   ],
   "source": [
    "document = {\"name\": \"John Doe\", \"age\": 25, \"email\": \"johndoe@email.com\"}\n",
    "insert_result = collection.insert_one(document)\n",
    "print(\"Inserted document with ID:\", insert_result.inserted_id)\n"
   ]
  },
  {
   "cell_type": "code",
   "execution_count": 34,
   "metadata": {},
   "outputs": [
    {
     "name": "stdout",
     "output_type": "stream",
     "text": [
      "{'_id': ObjectId('645e25fe22020669c17a2e24'), 'name': 'John Doe', 'age': 25, 'email': 'johndoe@email.com'}\n"
     ]
    }
   ],
   "source": [
    "query = {\"name\": \"John Doe\"}\n",
    "documents = collection.find(query)\n",
    "for document in documents:\n",
    "    print(document)"
   ]
  },
  {
   "cell_type": "code",
   "execution_count": 35,
   "metadata": {},
   "outputs": [
    {
     "name": "stdout",
     "output_type": "stream",
     "text": [
      "Updated 1 documents\n"
     ]
    }
   ],
   "source": [
    "query = {\"name\": \"John Doe\"}\n",
    "new_values = {\"$set\": {\"age\": 30}}\n",
    "update_result = collection.update_many(query, new_values)\n",
    "print(\"Updated\", update_result.modified_count, \"documents\")"
   ]
  },
  {
   "cell_type": "code",
   "execution_count": 36,
   "metadata": {},
   "outputs": [
    {
     "name": "stdout",
     "output_type": "stream",
     "text": [
      "Deleted 1 documents\n"
     ]
    }
   ],
   "source": [
    "query = {\"name\": \"John Doe\"}\n",
    "delete_result = collection.delete_many(query)\n",
    "print(\"Deleted\", delete_result.deleted_count, \"documents\")"
   ]
  },
  {
   "cell_type": "code",
   "execution_count": 37,
   "metadata": {},
   "outputs": [],
   "source": [
    "client.close()"
   ]
  }
 ],
 "metadata": {
  "kernelspec": {
   "display_name": ".venv",
   "language": "python",
   "name": "python3"
  },
  "language_info": {
   "codemirror_mode": {
    "name": "ipython",
    "version": 3
   },
   "file_extension": ".py",
   "mimetype": "text/x-python",
   "name": "python",
   "nbconvert_exporter": "python",
   "pygments_lexer": "ipython3",
   "version": "3.10.5"
  },
  "orig_nbformat": 4
 },
 "nbformat": 4,
 "nbformat_minor": 2
}
